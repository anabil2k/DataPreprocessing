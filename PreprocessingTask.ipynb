{
 "cells": [
  {
   "cell_type": "code",
   "execution_count": 12,
   "id": "0c39f856-76c9-4d34-a15f-7e6f4a12821a",
   "metadata": {},
   "outputs": [
    {
     "name": "stdout",
     "output_type": "stream",
     "text": [
      "Dataset shape: (77, 11)\n",
      "\n",
      "Dataset info:\n",
      "<class 'pandas.core.frame.DataFrame'>\n",
      "RangeIndex: 77 entries, 0 to 76\n",
      "Data columns (total 11 columns):\n",
      " #   Column         Non-Null Count  Dtype  \n",
      "---  ------         --------------  -----  \n",
      " 0   fNAME          77 non-null     object \n",
      " 1   lNAME          77 non-null     object \n",
      " 2   Age            77 non-null     int64  \n",
      " 3   gender         77 non-null     object \n",
      " 4   country        77 non-null     object \n",
      " 5   residence      77 non-null     object \n",
      " 6   entryEXAM      77 non-null     int64  \n",
      " 7   prevEducation  77 non-null     object \n",
      " 8   studyHOURS     77 non-null     int64  \n",
      " 9   Python         75 non-null     float64\n",
      " 10  DB             77 non-null     int64  \n",
      "dtypes: float64(1), int64(4), object(6)\n",
      "memory usage: 6.7+ KB\n",
      "None\n",
      "\n",
      "First 5 rows:\n",
      "       fNAME      lNAME  Age  gender       country  residence  entryEXAM  \\\n",
      "0  Christina     Binger   44  Female        Norway    Private         72   \n",
      "1       Alex   Walekhwa   60       M         Kenya    Private         79   \n",
      "2     Philip        Leo   25    Male        Uganda  Sognsvann         55   \n",
      "3      Shoni  Hlongwane   22       F           Rsa  Sognsvann         40   \n",
      "4      Maria   Kedibone   23  Female  South Africa  Sognsvann         65   \n",
      "\n",
      "  prevEducation  studyHOURS  Python  DB  \n",
      "0       Masters         158    59.0  55  \n",
      "1       Diploma         150    60.0  75  \n",
      "2    HighSchool         130    74.0  50  \n",
      "3   High School         120     NaN  44  \n",
      "4   High School         122    91.0  80  \n"
     ]
    }
   ],
   "source": [
    "# Part 1 - Data Cleaning\n",
    "#load the data and examine its structure:\n",
    "import pandas as pd\n",
    "import numpy as np\n",
    "import seaborn as sns\n",
    "import matplotlib.pyplot as plt\n",
    "\n",
    "# Load the data\n",
    "df = pd.read_csv('bi.csv', encoding='1256')\n",
    "\n",
    "# Check dataset structure\n",
    "print(\"Dataset shape:\", df.shape)\n",
    "print(\"\\nDataset info:\")\n",
    "print(df.info())\n",
    "print(\"\\nFirst 5 rows:\")\n",
    "print(df.head())"
   ]
  },
  {
   "cell_type": "code",
   "execution_count": 13,
   "id": "5084c164-15fd-4cc2-bce3-0df956a31e66",
   "metadata": {},
   "outputs": [],
   "source": [
    "#Which columns should be categorical and which should be numerical?\n",
    "\n",
    "#Categorical: gender, country, residence, prevEducation\n",
    "\n",
    "#Numerical: Age, entryEXAM, studyHOURS, Python, DB"
   ]
  },
  {
   "cell_type": "code",
   "execution_count": 14,
   "id": "72c4ab22-542e-490c-8d9e-52acf3a79eb4",
   "metadata": {},
   "outputs": [
    {
     "name": "stdout",
     "output_type": "stream",
     "text": [
      "Gender unique values: ['Female' 'M' 'Male' 'F' 'female' 'male']\n",
      "Country unique values: ['Norway' 'Kenya' 'Uganda' 'Rsa' 'South Africa' 'Norge' 'norway' 'Denmark'\n",
      " 'Netherlands' 'Italy' 'Spain' 'UK' 'Somali' 'Nigeria' 'Germany' 'France']\n",
      "Previous Education unique values: ['Masters' 'Diploma' 'HighSchool' 'High School' 'Bachelors' 'Barrrchelors'\n",
      " 'diploma' 'DIPLOMA' 'Diplomaaa' 'Doctorate']\n"
     ]
    }
   ],
   "source": [
    "#Detect and fix inconsistent categories:\n",
    "# Check unique values for categorical columns\n",
    "print(\"Gender unique values:\", df['gender'].unique())\n",
    "print(\"Country unique values:\", df['country'].unique())\n",
    "print(\"Previous Education unique values:\", df['prevEducation'].unique())\n",
    "\n",
    "# Fix gender inconsistencies\n",
    "df['gender'] = df['gender'].str.strip().str.lower().replace({\n",
    "    'm': 'male', 'f': 'female', 'male': 'male', 'female': 'female'\n",
    "})\n",
    "\n",
    "# Fix country inconsistencies\n",
    "df['country'] = df['country'].str.strip().str.title().replace({\n",
    "    'Rsa': 'South Africa', 'Norge': 'Norway', 'Norway': 'Norway',\n",
    "    'Uganda': 'Uganda', 'Kenya': 'Kenya', 'South Africa': 'South Africa',\n",
    "    'Denmark': 'Denmark', 'Netherlands': 'Netherlands', 'Italy': 'Italy',\n",
    "    'Spain': 'Spain', 'Uk': 'UK', 'Somali': 'Somalia', 'Nigeria': 'Nigeria',\n",
    "    'Germany': 'Germany', 'France': 'France'\n",
    "})\n",
    "\n",
    "# Fix prevEducation inconsistencies\n",
    "df['prevEducation'] = df['prevEducation'].str.strip().str.title().replace({\n",
    "    'Barrrchelors': 'Bachelors', 'Diplomaaa': 'Diploma',\n",
    "    'High School': 'High School', 'Highschool': 'High School',\n",
    "    'Masters': 'Masters', 'Bachelors': 'Bachelors',\n",
    "    'Diploma': 'Diploma', 'Doctorate': 'Doctorate'\n",
    "})\n",
    "\n",
    "# Fix residence inconsistencies\n",
    "df['residence'] = df['residence'].str.strip().replace({\n",
    "    'BI-Residence': 'BI Residence', 'BIResidence': 'BI Residence',\n",
    "    'BI_Residence': 'BI Residence', 'Sognsvann': 'Sognsvann',\n",
    "    'Private': 'Private'\n",
    "})"
   ]
  },
  {
   "cell_type": "code",
   "execution_count": 15,
   "id": "cc44b856-bf7d-45f6-b538-d36707e0e97a",
   "metadata": {},
   "outputs": [
    {
     "name": "stdout",
     "output_type": "stream",
     "text": [
      "Number of duplicates: 0\n",
      "Shape after removing duplicates: (77, 11)\n"
     ]
    }
   ],
   "source": [
    "# Handle duplicates:\n",
    "# Check for duplicates\n",
    "print(\"Number of duplicates:\", df.duplicated().sum())\n",
    "\n",
    "# Drop duplicates\n",
    "df = df.drop_duplicates()\n",
    "print(\"Shape after removing duplicates:\", df.shape)"
   ]
  },
  {
   "cell_type": "code",
   "execution_count": 16,
   "id": "4ac52986-2fbf-4a3e-b0dd-ddf4c76bef4a",
   "metadata": {},
   "outputs": [
    {
     "name": "stdout",
     "output_type": "stream",
     "text": [
      "Missing values:\n",
      "fNAME            0\n",
      "lNAME            0\n",
      "Age              0\n",
      "gender           0\n",
      "country          0\n",
      "residence        0\n",
      "entryEXAM        0\n",
      "prevEducation    0\n",
      "studyHOURS       0\n",
      "Python           2\n",
      "DB               0\n",
      "dtype: int64\n"
     ]
    }
   ],
   "source": [
    "# Part 2 - Missing Data\n",
    "# Identify missing values:\n",
    "print(\"Missing values:\")\n",
    "print(df.isnull().sum())"
   ]
  },
  {
   "cell_type": "code",
   "execution_count": 17,
   "id": "3a7fd9d9-8b2d-4121-b4e7-102bc7cc967c",
   "metadata": {},
   "outputs": [
    {
     "name": "stdout",
     "output_type": "stream",
     "text": [
      "Categorical missing values after numerical imputation:\n",
      "gender           0\n",
      "country          0\n",
      "residence        0\n",
      "prevEducation    0\n",
      "dtype: int64\n"
     ]
    }
   ],
   "source": [
    "# Impute missing values:\n",
    "# Fill numerical missing values with median (less sensitive to outliers)\n",
    "df['Python'] = df['Python'].fillna(df['Python'].median())\n",
    "df['DB'] = df['DB'].fillna(df['DB'].median())\n",
    "\n",
    "# Check if any categorical columns have missing values\n",
    "print(\"Categorical missing values after numerical imputation:\")\n",
    "print(df[['gender', 'country', 'residence', 'prevEducation']].isnull().sum())"
   ]
  },
  {
   "cell_type": "code",
   "execution_count": 18,
   "id": "795616c9-d8b9-4a78-8b3c-202e46fd3bb7",
   "metadata": {},
   "outputs": [
    {
     "name": "stdout",
     "output_type": "stream",
     "text": [
      "Study Hours summary:\n",
      "count     77.000000\n",
      "mean     149.714286\n",
      "std       12.743272\n",
      "min      114.000000\n",
      "25%      144.000000\n",
      "50%      156.000000\n",
      "75%      158.000000\n",
      "max      160.000000\n",
      "Name: studyHOURS, dtype: float64\n",
      "\n",
      "Python scores summary:\n",
      "count    77.000000\n",
      "mean     75.987013\n",
      "std      15.228517\n",
      "min      15.000000\n",
      "25%      72.000000\n",
      "50%      81.000000\n",
      "75%      85.000000\n",
      "max      91.000000\n",
      "Name: Python, dtype: float64\n",
      "\n",
      "DB scores summary:\n",
      "count     77.000000\n",
      "mean      69.467532\n",
      "std       17.033701\n",
      "min       30.000000\n",
      "25%       56.000000\n",
      "50%       71.000000\n",
      "75%       83.000000\n",
      "max      100.000000\n",
      "Name: DB, dtype: float64\n"
     ]
    },
    {
     "data": {
      "image/png": "[encoded data removed]",
      "text/plain": [
       "<Figure size 1500x500 with 3 Axes>"
      ]
     },
     "metadata": {},
     "output_type": "display_data"
    }
   ],
   "source": [
    "# Part 3 - Outliers\n",
    "# Detect outliers:\n",
    "# Summary statistics\n",
    "print(\"Study Hours summary:\")\n",
    "print(df['studyHOURS'].describe())\n",
    "print(\"\\nPython scores summary:\")\n",
    "print(df['Python'].describe())\n",
    "print(\"\\nDB scores summary:\")\n",
    "print(df['DB'].describe())\n",
    "\n",
    "# Boxplots\n",
    "plt.figure(figsize=(15, 5))\n",
    "plt.subplot(1, 3, 1)\n",
    "sns.boxplot(y=df['studyHOURS'])\n",
    "plt.title('Study Hours')\n",
    "\n",
    "plt.subplot(1, 3, 2)\n",
    "sns.boxplot(y=df['Python'])\n",
    "plt.title('Python Scores')\n",
    "\n",
    "plt.subplot(1, 3, 3)\n",
    "sns.boxplot(y=df['DB'])\n",
    "plt.title('DB Scores')\n",
    "plt.tight_layout()\n",
    "plt.show()"
   ]
  },
  {
   "cell_type": "code",
   "execution_count": 19,
   "id": "a38ea6f6-a73f-48da-ba7d-205f92547f0a",
   "metadata": {},
   "outputs": [
    {
     "name": "stdout",
     "output_type": "stream",
     "text": [
      "Removed 13 rows due to outliers\n"
     ]
    }
   ],
   "source": [
    "# Handle outliers using IQR method:\n",
    "def remove_outliers_iqr(df, column):\n",
    "    Q1 = df[column].quantile(0.25)\n",
    "    Q3 = df[column].quantile(0.75)\n",
    "    IQR = Q3 - Q1\n",
    "    lower_bound = Q1 - 1.5 * IQR\n",
    "    upper_bound = Q3 + 1.5 * IQR\n",
    "    return df[(df[column] >= lower_bound) & (df[column] <= upper_bound)]\n",
    "\n",
    "# Remove outliers from numerical columns\n",
    "original_shape = df.shape\n",
    "df = remove_outliers_iqr(df, 'studyHOURS')\n",
    "df = remove_outliers_iqr(df, 'Python')\n",
    "df = remove_outliers_iqr(df, 'DB')\n",
    "print(f\"Removed {original_shape[0] - df.shape[0]} rows due to outliers\")"
   ]
  },
  {
   "cell_type": "code",
   "execution_count": 20,
   "id": "73a34623-ca6b-40aa-9581-209a9d1895cc",
   "metadata": {},
   "outputs": [
    {
     "name": "stdout",
     "output_type": "stream",
     "text": [
      "Final dataset shape: (64, 11)\n",
      "\n",
      "Final missing values:\n",
      "fNAME            0\n",
      "lNAME            0\n",
      "Age              0\n",
      "gender           0\n",
      "country          0\n",
      "residence        0\n",
      "entryEXAM        0\n",
      "prevEducation    0\n",
      "studyHOURS       0\n",
      "Python           0\n",
      "DB               0\n",
      "dtype: int64\n",
      "\n",
      "Final gender values: ['male' 'female']\n",
      "Final country values: ['Uganda' 'Norway' 'Denmark' 'Netherlands' 'Italy' 'Spain' 'UK' 'Somalia'\n",
      " 'Nigeria' 'Kenya' 'Germany' 'France']\n",
      "Final prevEducation values: ['High School' 'Bachelors' 'Diploma' 'Masters' 'Doctorate']\n",
      "\n",
      "Cleaned dataset saved as 'cleaned_students.csv'\n"
     ]
    }
   ],
   "source": [
    "# Final Data Check and Export\n",
    "# Final check\n",
    "print(\"Final dataset shape:\", df.shape)\n",
    "print(\"\\nFinal missing values:\")\n",
    "print(df.isnull().sum())\n",
    "\n",
    "print(\"\\nFinal gender values:\", df['gender'].unique())\n",
    "print(\"Final country values:\", df['country'].unique())\n",
    "print(\"Final prevEducation values:\", df['prevEducation'].unique())\n",
    "\n",
    "# Export cleaned dataset\n",
    "df.to_csv('cleaned_students.csv', index=False)\n",
    "print(\"\\nCleaned dataset saved as 'cleaned_students.csv'\")"
   ]
  },
  {
   "cell_type": "code",
   "execution_count": null,
   "id": "99c7db55-ccf7-41b1-af5f-53d1f3e7ee05",
   "metadata": {},
   "outputs": [],
   "source": []
  }
 ],
 "metadata": {
  "kernelspec": {
   "display_name": "Python 3 (ipykernel)",
   "language": "python",
   "name": "python3"
  },
  "language_info": {
   "codemirror_mode": {
    "name": "ipython",
    "version": 3
   },
   "file_extension": ".py",
   "mimetype": "text/x-python",
   "name": "python",
   "nbconvert_exporter": "python",
   "pygments_lexer": "ipython3",
   "version": "3.13.5"
  }
 },
 "nbformat": 4,
 "nbformat_minor": 5
}
